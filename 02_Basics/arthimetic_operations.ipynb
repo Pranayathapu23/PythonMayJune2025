{
 "cells": [
  {
   "cell_type": "markdown",
   "id": "d4cb08b2",
   "metadata": {},
   "source": [
    "## Arithmetic operations\n"
   ]
  },
  {
   "cell_type": "markdown",
   "id": "9c5a2ce6",
   "metadata": {},
   "source": [
    "    Integer family\n",
    "        int\n",
    "        long - python 2 only\n",
    "        float\n",
    "\n",
    "        complex\n",
    "        bool\n",
    "\n",
    "    Arithmetic operation operators: + - * / // %\n",
    "    NOTE: PEP 8 recommends to place one space around the operator"
   ]
  },
  {
   "cell_type": "code",
   "execution_count": 2,
   "id": "8e8f798e",
   "metadata": {},
   "outputs": [],
   "source": [
    "num1 = 10 #int"
   ]
  },
  {
   "cell_type": "code",
   "execution_count": 3,
   "id": "f1aab365",
   "metadata": {},
   "outputs": [
    {
     "data": {
      "text/plain": [
       "10"
      ]
     },
     "execution_count": 3,
     "metadata": {},
     "output_type": "execute_result"
    }
   ],
   "source": [
    "num1"
   ]
  },
  {
   "cell_type": "code",
   "execution_count": 4,
   "id": "bc7a45c7",
   "metadata": {},
   "outputs": [
    {
     "name": "stdout",
     "output_type": "stream",
     "text": [
      "10\n"
     ]
    }
   ],
   "source": [
    "print(num1)"
   ]
  },
  {
   "cell_type": "code",
   "execution_count": 5,
   "id": "aba3c734",
   "metadata": {},
   "outputs": [
    {
     "data": {
      "text/plain": [
       "int"
      ]
     },
     "execution_count": 5,
     "metadata": {},
     "output_type": "execute_result"
    }
   ],
   "source": [
    "type(num1)"
   ]
  },
  {
   "cell_type": "code",
   "execution_count": 7,
   "id": "a8ce7e89",
   "metadata": {},
   "outputs": [],
   "source": [
    "num2 = 200 #int"
   ]
  },
  {
   "cell_type": "code",
   "execution_count": 8,
   "id": "8c1b3f4e",
   "metadata": {},
   "outputs": [
    {
     "data": {
      "text/plain": [
       "210"
      ]
     },
     "execution_count": 8,
     "metadata": {},
     "output_type": "execute_result"
    }
   ],
   "source": [
    "num1 + num2 #Addition"
   ]
  },
  {
   "cell_type": "code",
   "execution_count": 9,
   "id": "78040a23",
   "metadata": {},
   "outputs": [
    {
     "data": {
      "text/plain": [
       "-190"
      ]
     },
     "execution_count": 9,
     "metadata": {},
     "output_type": "execute_result"
    }
   ],
   "source": [
    "num1 - num2 #subtraction"
   ]
  },
  {
   "cell_type": "code",
   "execution_count": 10,
   "id": "dde028c8",
   "metadata": {},
   "outputs": [
    {
     "data": {
      "text/plain": [
       "2000"
      ]
     },
     "execution_count": 10,
     "metadata": {},
     "output_type": "execute_result"
    }
   ],
   "source": [
    "num1 * num2 #multiplication"
   ]
  },
  {
   "cell_type": "code",
   "execution_count": 11,
   "id": "3e83672e",
   "metadata": {},
   "outputs": [
    {
     "data": {
      "text/plain": [
       "0.05"
      ]
     },
     "execution_count": 11,
     "metadata": {},
     "output_type": "execute_result"
    }
   ],
   "source": [
    "num1 / num2 #division"
   ]
  },
  {
   "cell_type": "markdown",
   "id": "c53ef609",
   "metadata": {},
   "source": [
    "NOTE : Division will result in floating point value everytime"
   ]
  },
  {
   "cell_type": "code",
   "execution_count": 12,
   "id": "59bc91dd",
   "metadata": {},
   "outputs": [
    {
     "data": {
      "text/plain": [
       "5.0"
      ]
     },
     "execution_count": 12,
     "metadata": {},
     "output_type": "execute_result"
    }
   ],
   "source": [
    "10/2"
   ]
  },
  {
   "cell_type": "code",
   "execution_count": 13,
   "id": "3f255586",
   "metadata": {},
   "outputs": [
    {
     "data": {
      "text/plain": [
       "3.3333333333333335"
      ]
     },
     "execution_count": 13,
     "metadata": {},
     "output_type": "execute_result"
    }
   ],
   "source": [
    "10/3"
   ]
  },
  {
   "cell_type": "markdown",
   "id": "887b85c0",
   "metadata": {},
   "source": [
    "### Floor Division"
   ]
  },
  {
   "cell_type": "code",
   "execution_count": 14,
   "id": "0b5ec473",
   "metadata": {},
   "outputs": [
    {
     "data": {
      "text/plain": [
       "5"
      ]
     },
     "execution_count": 14,
     "metadata": {},
     "output_type": "execute_result"
    }
   ],
   "source": [
    "10//2"
   ]
  },
  {
   "cell_type": "code",
   "execution_count": 17,
   "id": "69f8764a",
   "metadata": {},
   "outputs": [
    {
     "data": {
      "text/plain": [
       "3.3333333333333335"
      ]
     },
     "execution_count": 17,
     "metadata": {},
     "output_type": "execute_result"
    }
   ],
   "source": [
    "10/3"
   ]
  },
  {
   "cell_type": "code",
   "execution_count": 15,
   "id": "bd82eda1",
   "metadata": {},
   "outputs": [
    {
     "data": {
      "text/plain": [
       "3"
      ]
     },
     "execution_count": 15,
     "metadata": {},
     "output_type": "execute_result"
    }
   ],
   "source": [
    "10//3"
   ]
  },
  {
   "cell_type": "code",
   "execution_count": 16,
   "id": "e34099f0",
   "metadata": {},
   "outputs": [
    {
     "data": {
      "text/plain": [
       "-4"
      ]
     },
     "execution_count": 16,
     "metadata": {},
     "output_type": "execute_result"
    }
   ],
   "source": [
    "-10//3"
   ]
  },
  {
   "cell_type": "code",
   "execution_count": 18,
   "id": "15299694",
   "metadata": {},
   "outputs": [
    {
     "name": "stdout",
     "output_type": "stream",
     "text": [
      "<class 'int'>\n"
     ]
    }
   ],
   "source": [
    "num3 = 23456543456765435676545672345432345654345676543456787656789098909878987656765\n",
    "print(type(num3))"
   ]
  },
  {
   "cell_type": "markdown",
   "id": "86a0c9ea",
   "metadata": {},
   "source": [
    "There is no limit to store numbers in python"
   ]
  },
  {
   "cell_type": "markdown",
   "id": "7aea7c27",
   "metadata": {},
   "source": [
    "Numeric literals allow optional underscores to help improve readability"
   ]
  },
  {
   "cell_type": "code",
   "execution_count": 21,
   "id": "8d391bf2",
   "metadata": {},
   "outputs": [
    {
     "name": "stdout",
     "output_type": "stream",
     "text": [
      "2993445454 <class 'int'>\n"
     ]
    }
   ],
   "source": [
    "speed_of_light = 299_3445_454\n",
    "print(speed_of_light, type(speed_of_light))"
   ]
  },
  {
   "cell_type": "markdown",
   "id": "2570a13d",
   "metadata": {},
   "source": [
    "Modulo Operation % -remainder"
   ]
  },
  {
   "cell_type": "code",
   "execution_count": 22,
   "id": "8318b327",
   "metadata": {},
   "outputs": [
    {
     "data": {
      "text/plain": [
       "0"
      ]
     },
     "execution_count": 22,
     "metadata": {},
     "output_type": "execute_result"
    }
   ],
   "source": [
    "12%2"
   ]
  },
  {
   "cell_type": "code",
   "execution_count": 23,
   "id": "1e3eacee",
   "metadata": {},
   "outputs": [
    {
     "data": {
      "text/plain": [
       "1"
      ]
     },
     "execution_count": 23,
     "metadata": {},
     "output_type": "execute_result"
    }
   ],
   "source": [
    "13%3"
   ]
  },
  {
   "cell_type": "code",
   "execution_count": 24,
   "id": "d9d76a34",
   "metadata": {},
   "outputs": [
    {
     "data": {
      "text/plain": [
       "-1"
      ]
     },
     "execution_count": 24,
     "metadata": {},
     "output_type": "execute_result"
    }
   ],
   "source": [
    "13 % -2"
   ]
  },
  {
   "cell_type": "markdown",
   "id": "d8f19cc8",
   "metadata": {},
   "source": [
    "__Note__: sign of the divisor will go to the output"
   ]
  },
  {
   "cell_type": "markdown",
   "id": "27573137",
   "metadata": {},
   "source": []
  },
  {
   "cell_type": "code",
   "execution_count": 1,
   "id": "ad3e35e0",
   "metadata": {},
   "outputs": [
    {
     "data": {
      "text/plain": [
       "(6, 1)"
      ]
     },
     "execution_count": 1,
     "metadata": {},
     "output_type": "execute_result"
    }
   ],
   "source": [
    "divmod(13,2)"
   ]
  },
  {
   "cell_type": "code",
   "execution_count": 2,
   "id": "111daf69",
   "metadata": {},
   "outputs": [
    {
     "data": {
      "text/plain": [
       "(5, 0)"
      ]
     },
     "execution_count": 2,
     "metadata": {},
     "output_type": "execute_result"
    }
   ],
   "source": [
    "divmod(10,2)"
   ]
  },
  {
   "cell_type": "markdown",
   "id": "9997cc48",
   "metadata": {},
   "source": [
    "##### Assignment -- try to the sum of digits in a integer number, using divmod()"
   ]
  },
  {
   "cell_type": "markdown",
   "id": "4ed9c693",
   "metadata": {},
   "source": [
    "### power operation **, pow"
   ]
  },
  {
   "cell_type": "code",
   "execution_count": 4,
   "id": "4839f07a",
   "metadata": {},
   "outputs": [
    {
     "data": {
      "text/plain": [
       "72"
      ]
     },
     "execution_count": 4,
     "metadata": {},
     "output_type": "execute_result"
    }
   ],
   "source": [
    "8*9"
   ]
  },
  {
   "cell_type": "code",
   "execution_count": 5,
   "id": "81fd68c0",
   "metadata": {},
   "outputs": [
    {
     "data": {
      "text/plain": [
       "134217728"
      ]
     },
     "execution_count": 5,
     "metadata": {},
     "output_type": "execute_result"
    }
   ],
   "source": [
    "8**9"
   ]
  },
  {
   "cell_type": "code",
   "execution_count": 7,
   "id": "3125c995",
   "metadata": {},
   "outputs": [
    {
     "data": {
      "text/plain": [
       "12006955676590603166087179238357514695430411603701293283759489688943188438119956966517309830923136175998643782882237335118183361626184691404393719883826248976537243868356960763060061606115796453577502918570410537916018822109332498290112918133691367619490528318444883360088043"
      ]
     },
     "execution_count": 7,
     "metadata": {},
     "output_type": "execute_result"
    }
   ],
   "source": [
    "1232123**45"
   ]
  },
  {
   "cell_type": "code",
   "execution_count": 8,
   "id": "4a4b163f",
   "metadata": {},
   "outputs": [
    {
     "data": {
      "text/plain": [
       "8.0"
      ]
     },
     "execution_count": 8,
     "metadata": {},
     "output_type": "execute_result"
    }
   ],
   "source": [
    "64**(1/2)"
   ]
  },
  {
   "cell_type": "code",
   "execution_count": 9,
   "id": "594706f5",
   "metadata": {},
   "outputs": [
    {
     "data": {
      "text/plain": [
       "4096"
      ]
     },
     "execution_count": 9,
     "metadata": {},
     "output_type": "execute_result"
    }
   ],
   "source": [
    "64 ** 2"
   ]
  },
  {
   "cell_type": "code",
   "execution_count": 10,
   "id": "044a9624",
   "metadata": {},
   "outputs": [
    {
     "data": {
      "text/plain": [
       "8.0"
      ]
     },
     "execution_count": 10,
     "metadata": {},
     "output_type": "execute_result"
    }
   ],
   "source": [
    "64 ** 0.5"
   ]
  },
  {
   "cell_type": "code",
   "execution_count": 11,
   "id": "1d5056f3",
   "metadata": {},
   "outputs": [
    {
     "data": {
      "text/plain": [
       "16"
      ]
     },
     "execution_count": 11,
     "metadata": {},
     "output_type": "execute_result"
    }
   ],
   "source": [
    "pow(4,2)"
   ]
  },
  {
   "cell_type": "code",
   "execution_count": 12,
   "id": "973eb6da",
   "metadata": {},
   "outputs": [
    {
     "data": {
      "text/plain": [
       "16"
      ]
     },
     "execution_count": 12,
     "metadata": {},
     "output_type": "execute_result"
    }
   ],
   "source": [
    "4 ** 2"
   ]
  },
  {
   "cell_type": "markdown",
   "id": "f863eab4",
   "metadata": {},
   "source": [
    "== is used to check values left hand side and right hand side. If the both are same it will give True"
   ]
  },
  {
   "cell_type": "code",
   "execution_count": 13,
   "id": "55cb0869",
   "metadata": {},
   "outputs": [
    {
     "data": {
      "text/plain": [
       "True"
      ]
     },
     "execution_count": 13,
     "metadata": {},
     "output_type": "execute_result"
    }
   ],
   "source": [
    "pow(64, 1 / 2) == 64 ** (1/2)"
   ]
  },
  {
   "cell_type": "code",
   "execution_count": 15,
   "id": "46ab3190",
   "metadata": {},
   "outputs": [
    {
     "data": {
      "text/plain": [
       "True"
      ]
     },
     "execution_count": 15,
     "metadata": {},
     "output_type": "execute_result"
    }
   ],
   "source": [
    "2 == 2"
   ]
  },
  {
   "cell_type": "markdown",
   "id": "389b9855",
   "metadata": {},
   "source": [
    "Exponent Notation"
   ]
  },
  {
   "cell_type": "markdown",
   "id": "c9f56318",
   "metadata": {},
   "source": [
    "e = Ten to the power of 1 (10.0**1)"
   ]
  },
  {
   "cell_type": "code",
   "execution_count": 17,
   "id": "01d5b89f",
   "metadata": {},
   "outputs": [
    {
     "data": {
      "text/plain": [
       "True"
      ]
     },
     "execution_count": 17,
     "metadata": {},
     "output_type": "execute_result"
    }
   ],
   "source": [
    "1e1 == 1 * 10.0**1"
   ]
  },
  {
   "cell_type": "code",
   "execution_count": 16,
   "id": "fd36484b",
   "metadata": {},
   "outputs": [
    {
     "data": {
      "text/plain": [
       "1000000.0"
      ]
     },
     "execution_count": 16,
     "metadata": {},
     "output_type": "execute_result"
    }
   ],
   "source": [
    "10e5"
   ]
  },
  {
   "cell_type": "code",
   "execution_count": 18,
   "id": "9406da68",
   "metadata": {},
   "outputs": [
    {
     "data": {
      "text/plain": [
       "300.0"
      ]
     },
     "execution_count": 18,
     "metadata": {},
     "output_type": "execute_result"
    }
   ],
   "source": [
    "3e2"
   ]
  },
  {
   "cell_type": "code",
   "execution_count": 19,
   "id": "d8e462eb",
   "metadata": {},
   "outputs": [
    {
     "name": "stdout",
     "output_type": "stream",
     "text": [
      "6.022140857e+23 <class 'float'>\n"
     ]
    }
   ],
   "source": [
    "avogadro_num = 6.022_140_857e23\n",
    "print(avogadro_num, type(avogadro_num))"
   ]
  },
  {
   "cell_type": "markdown",
   "id": "c8dff3ca",
   "metadata": {},
   "source": [
    "### Compound operators"
   ]
  },
  {
   "cell_type": "markdown",
   "id": "8da11232",
   "metadata": {},
   "source": [
    "+= -= *= /= %=\n",
    "\n",
    "= assignment operator\n"
   ]
  },
  {
   "cell_type": "markdown",
   "id": "6b4395df",
   "metadata": {},
   "source": [
    "### Representing big(large and small) numbers"
   ]
  },
  {
   "cell_type": "code",
   "execution_count": 1,
   "id": "54fdd0fe",
   "metadata": {},
   "outputs": [
    {
     "name": "stdout",
     "output_type": "stream",
     "text": [
      "num = 100\n"
     ]
    }
   ],
   "source": [
    "num = 100\n",
    "print(\"num =\", num)"
   ]
  },
  {
   "cell_type": "code",
   "execution_count": 2,
   "id": "745697ab",
   "metadata": {},
   "outputs": [
    {
     "name": "stdout",
     "output_type": "stream",
     "text": [
      "<class 'int'> 23432343234\n",
      "<class 'tuple'> (234, 323, 432, 34)\n",
      "<class 'int'> 23432343234\n",
      "<class 'str'> 234_323_432_34\n"
     ]
    }
   ],
   "source": [
    "# Large numbers\n",
    "speed_of_light = 23432343234\n",
    "print(type(speed_of_light), speed_of_light)\n",
    "\n",
    "speed_of_light = 234,323,432,34\n",
    "print(type(speed_of_light), speed_of_light)\n",
    "\n",
    "speed_of_light = 234_323_432_34\n",
    "print(type(speed_of_light), speed_of_light)\n",
    "\n",
    "speed_of_light = \"234_323_432_34\"\n",
    "print(type(speed_of_light), speed_of_light)"
   ]
  },
  {
   "cell_type": "markdown",
   "id": "8dbbef15",
   "metadata": {},
   "source": [
    "Here if we have comma in b/w numbers it will be tuple. if we write something in double quotes it's automatically a string. If have underscore it will consider and make it a Integer."
   ]
  },
  {
   "cell_type": "markdown",
   "id": "65709986",
   "metadata": {},
   "source": [
    "If you open a previously used jupyter notebook. It will count from cell 1. Because it will not read the previous session. If you want to make it read then you should run Run All command. Run all will fail when we have exceptions."
   ]
  },
  {
   "cell_type": "markdown",
   "id": "da6b0847",
   "metadata": {},
   "source": []
  }
 ],
 "metadata": {
  "kernelspec": {
   "display_name": "Python 3",
   "language": "python",
   "name": "python3"
  },
  "language_info": {
   "codemirror_mode": {
    "name": "ipython",
    "version": 3
   },
   "file_extension": ".py",
   "mimetype": "text/x-python",
   "name": "python",
   "nbconvert_exporter": "python",
   "pygments_lexer": "ipython3",
   "version": "3.12.1"
  }
 },
 "nbformat": 4,
 "nbformat_minor": 5
}
