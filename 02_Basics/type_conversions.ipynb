{
 "cells": [
  {
   "cell_type": "markdown",
   "id": "21909243",
   "metadata": {},
   "source": [
    "## Data Type Conversions\n",
    "    -int, float, complex, boolean, string, None\n",
    "\n",
    "\n",
    "    Integer family\n",
    "    \n"
   ]
  },
  {
   "cell_type": "markdown",
   "id": "bbb52393",
   "metadata": {},
   "source": [
    "    int - decimal       - int() -base 10 (0-9)\n",
    "        - binary         - bin() - base 2 (0-1)\n",
    "        - hexadecimal    - hex() - base 16 (0-9)(A-F)\n",
    "        - octal\n",
    "    float\n",
    "        float()\n",
    "    string\n",
    "        str()"
   ]
  },
  {
   "cell_type": "code",
   "execution_count": 3,
   "id": "c03fc49a",
   "metadata": {},
   "outputs": [
    {
     "name": "stdout",
     "output_type": "stream",
     "text": [
      "number 12 <class 'int'>\n"
     ]
    }
   ],
   "source": [
    "num = 12\n",
    "print(\"number\", num, type(num))"
   ]
  },
  {
   "cell_type": "code",
   "execution_count": 4,
   "id": "4065f398",
   "metadata": {},
   "outputs": [
    {
     "name": "stdout",
     "output_type": "stream",
     "text": [
      "12 12.0\n"
     ]
    }
   ],
   "source": [
    "## int -> float\n",
    "print(12, float(12))"
   ]
  },
  {
   "cell_type": "code",
   "execution_count": 7,
   "id": "ce0de02f",
   "metadata": {},
   "outputs": [
    {
     "data": {
      "text/plain": [
       "(12, '12')"
      ]
     },
     "execution_count": 7,
     "metadata": {},
     "output_type": "execute_result"
    }
   ],
   "source": [
    "##int -> str\n",
    "12, str(12)"
   ]
  },
  {
   "cell_type": "code",
   "execution_count": 8,
   "id": "53023b32",
   "metadata": {},
   "outputs": [
    {
     "name": "stdout",
     "output_type": "stream",
     "text": [
      "3.1416 3\n",
      "3.1416 3.1416\n"
     ]
    }
   ],
   "source": [
    "##float -> int\n",
    "print(3.1416, int(3.1416))\n",
    "print(3.1416, str(3.1416))"
   ]
  },
  {
   "cell_type": "code",
   "execution_count": 9,
   "id": "27440c73",
   "metadata": {},
   "outputs": [
    {
     "name": "stdout",
     "output_type": "stream",
     "text": [
      "23 23\n",
      "23  23\n"
     ]
    }
   ],
   "source": [
    "## str -> Int\n",
    "print(\"23\", int(\"23\"))\n",
    "print(\"23 \", int(\"23 \"))"
   ]
  },
  {
   "cell_type": "code",
   "execution_count": 2,
   "id": "53642f1f",
   "metadata": {},
   "outputs": [
    {
     "ename": "SyntaxError",
     "evalue": "invalid syntax (2688653801.py, line 1)",
     "output_type": "error",
     "traceback": [
      "  \u001b[36mCell\u001b[39m\u001b[36m \u001b[39m\u001b[32mIn[2]\u001b[39m\u001b[32m, line 1\u001b[39m\n\u001b[31m    \u001b[39m\u001b[31m\"%#o\" % 10, \"%\" 10  # ('0o12', '12')\u001b[39m\n                    ^\n\u001b[31mSyntaxError\u001b[39m\u001b[31m:\u001b[39m invalid syntax\n"
     ]
    }
   ],
   "source": [
    "\"%#o\" % 10, \"%\" 10  # ('0o12', '12')\n",
    "format(10, \"#o\"), format(10, \"o\")"
   ]
  },
  {
   "cell_type": "code",
   "execution_count": null,
   "id": "a9543775",
   "metadata": {},
   "outputs": [],
   "source": [
    "Absolute value"
   ]
  },
  {
   "cell_type": "markdown",
   "id": "9c014f76",
   "metadata": {},
   "source": [
    "Complex Numbers"
   ]
  }
 ],
 "metadata": {
  "kernelspec": {
   "display_name": "Python 3",
   "language": "python",
   "name": "python3"
  },
  "language_info": {
   "codemirror_mode": {
    "name": "ipython",
    "version": 3
   },
   "file_extension": ".py",
   "mimetype": "text/x-python",
   "name": "python",
   "nbconvert_exporter": "python",
   "pygments_lexer": "ipython3",
   "version": "3.12.1"
  }
 },
 "nbformat": 4,
 "nbformat_minor": 5
}
