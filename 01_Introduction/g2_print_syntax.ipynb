{
 "cells": [
  {
   "cell_type": "markdown",
   "id": "21c51843",
   "metadata": {},
   "source": [
    "## Print function\n"
   ]
  },
  {
   "cell_type": "code",
   "execution_count": 3,
   "id": "e3531189",
   "metadata": {},
   "outputs": [
    {
     "name": "stdout",
     "output_type": "stream",
     "text": [
      "hello;python;12345\tworld\n"
     ]
    }
   ],
   "source": [
    "print(\"hello\", \"python\", 12345, end=\"\\t\", sep=\";\")\n",
    "print(\"world\")"
   ]
  },
  {
   "cell_type": "code",
   "execution_count": 4,
   "id": "b97f6019",
   "metadata": {},
   "outputs": [
    {
     "name": "stdout",
     "output_type": "stream",
     "text": [
      "hello;python;12345\ta-b-c-d\n"
     ]
    }
   ],
   "source": [
    "print(\"hello\", \"python\", 12345, end=\"\\t\", sep=\";\")\n",
    "print(\"a\", \"b\", \"c\", \"d\", sep=\"-\")"
   ]
  },
  {
   "cell_type": "code",
   "execution_count": 5,
   "id": "41486e24",
   "metadata": {},
   "outputs": [
    {
     "name": "stdout",
     "output_type": "stream",
     "text": [
      "hi\n"
     ]
    }
   ],
   "source": [
    "# \\b - overwrites previous character\n",
    "print(\"he\\bi\")"
   ]
  },
  {
   "cell_type": "code",
   "execution_count": 6,
   "id": "3c1116e8",
   "metadata": {},
   "outputs": [
    {
     "name": "stdout",
     "output_type": "stream",
     "text": [
      "\bsecond\n"
     ]
    }
   ],
   "source": [
    "print(\"\\bsecond\")"
   ]
  },
  {
   "cell_type": "code",
   "execution_count": 7,
   "id": "77153441",
   "metadata": {},
   "outputs": [
    {
     "data": {
      "text/plain": [
       "'\\x08second'"
      ]
     },
     "execution_count": 7,
     "metadata": {},
     "output_type": "execute_result"
    }
   ],
   "source": [
    "'\\bsecond'"
   ]
  },
  {
   "cell_type": "code",
   "execution_count": 10,
   "id": "44dbc033",
   "metadata": {},
   "outputs": [
    {
     "name": "stdout",
     "output_type": "stream",
     "text": [
      "ie\n",
      "34\n",
      "ghtyuirhjdkmdncncfnnf\n"
     ]
    }
   ],
   "source": [
    "#\\r - overwrites complete existing line\n",
    "print(\"He\\ri\")\n",
    "print(\"12\\r34\")\n",
    "print(\"123456\\rghtyuirhjdkmdncncfnnf\")"
   ]
  },
  {
   "cell_type": "code",
   "execution_count": null,
   "id": "9f7c8a1f",
   "metadata": {},
   "outputs": [],
   "source": []
  }
 ],
 "metadata": {
  "kernelspec": {
   "display_name": "Python 3",
   "language": "python",
   "name": "python3"
  },
  "language_info": {
   "codemirror_mode": {
    "name": "ipython",
    "version": 3
   },
   "file_extension": ".py",
   "mimetype": "text/x-python",
   "name": "python",
   "nbconvert_exporter": "python",
   "pygments_lexer": "ipython3",
   "version": "3.12.1"
  }
 },
 "nbformat": 4,
 "nbformat_minor": 5
}
